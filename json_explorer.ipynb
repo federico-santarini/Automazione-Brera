{
 "cells": [
  {
   "cell_type": "code",
   "execution_count": 4,
   "metadata": {},
   "outputs": [],
   "source": [
    "import json"
   ]
  },
  {
   "cell_type": "code",
   "execution_count": 5,
   "metadata": {},
   "outputs": [],
   "source": [
    "jsonPath = \"project_folder/breradesignweek_2019_events_20200122.json\"\n",
    "with open(jsonPath, mode='r', encoding='utf-8') as jsonFile:\n",
    "    data = json.load(jsonFile)"
   ]
  },
  {
   "cell_type": "code",
   "execution_count": 6,
   "metadata": {},
   "outputs": [],
   "source": [
    "baseCompanies = [cc for cc in data\n",
    "                 if cc['pacchetto_comunicazione'] == 'base']\n",
    "\n",
    "plusCompanies = [cc for cc in data\n",
    "                 if cc['pacchetto_comunicazione'] == 'plus']\n",
    "\n",
    "sponsorCompanies = [cc for cc in data\n",
    "                    if cc['pacchetto_comunicazione'] == 'sponsor']\n"
   ]
  },
  {
   "cell_type": "code",
   "execution_count": 7,
   "metadata": {},
   "outputs": [
    {
     "name": "stdout",
     "output_type": "stream",
     "text": [
      "Companies:  118\n",
      "Companies with more than 10 espositori:  3\n",
      "Companies with 6/10 espositori:  4\n",
      "Companies with 5 espositori or less:  110\n"
     ]
    }
   ],
   "source": [
    "espositori = [len(cc['espositori']) for cc in baseCompanies]\n",
    "\n",
    "more_10 = sum(map(lambda x : x>10, espositori))\n",
    "more_05 = sum(map(lambda x : 10>x>5, espositori))\n",
    "less_03 = sum(map(lambda x : x<=5, espositori))\n",
    "\n",
    "print('Companies: ' , len(espositori))\n",
    "print('Companies with more than 10 espositori: ', more_10)\n",
    "print('Companies with 6/10 espositori: ', more_05)\n",
    "print('Companies with 5 espositori or less: ', less_03)"
   ]
  },
  {
   "cell_type": "code",
   "execution_count": 8,
   "metadata": {},
   "outputs": [
    {
     "name": "stdout",
     "output_type": "stream",
     "text": [
      "Companies:  38\n",
      "Companies with more than 10 miniEventi:  4\n",
      "Companies with 6/10 miniEventi:  30\n",
      "Companies with 5 miniEventi or less:  4\n"
     ]
    }
   ],
   "source": [
    "miniEventi = [len(cc['mini-eventi']) for cc in plusCompanies]\n",
    "\n",
    "more_10 = sum(map(lambda x : x>=10, miniEventi))\n",
    "more_05 = sum(map(lambda x : 10>x>5, miniEventi))\n",
    "more_03 = sum(map(lambda x : x>3, miniEventi))\n",
    "less_03 = sum(map(lambda x : x<=3, miniEventi))\n",
    "\n",
    "print('Companies: ' , len(miniEventi))\n",
    "print('Companies with more than 10 miniEventi: ', more_10)\n",
    "print('Companies with 6/10 miniEventi: ', more_05)\n",
    "print('Companies with 5 miniEventi or less: ', less_03)"
   ]
  },
  {
   "cell_type": "code",
   "execution_count": 9,
   "metadata": {},
   "outputs": [
    {
     "data": {
      "text/plain": [
       "['altro',\n",
       " 'conferenza',\n",
       " 'esposizione',\n",
       " 'festa_cocktail',\n",
       " 'festa_riservata',\n",
       " 'incontro',\n",
       " 'premiazione',\n",
       " 'presentazione',\n",
       " 'press_preview',\n",
       " 'show',\n",
       " 'workshop']"
      ]
     },
     "execution_count": 9,
     "metadata": {},
     "output_type": "execute_result"
    }
   ],
   "source": [
    "vals = []\n",
    "for cc in baseCompanies:\n",
    "    for jj in cc['mini-eventi']:\n",
    "        if jj['tipo_attivita'] not in vals:\n",
    "            vals.append(jj['tipo_attivita'])\n",
    "\n",
    "for cc in plusCompanies:\n",
    "    for jj in cc['mini-eventi']:\n",
    "        if jj['tipo_attivita'] not in vals:\n",
    "            vals.append(jj['tipo_attivita'])\n",
    "\n",
    "\n",
    "for cc in sponsorCompanies:\n",
    "    for jj in cc['mini-eventi']:\n",
    "        if jj['tipo_attivita'] not in vals:\n",
    "            vals.append(jj['tipo_attivita'])\n",
    "\n",
    "vals.sort()\n",
    "vals"
   ]
  },
  {
   "cell_type": "code",
   "execution_count": 10,
   "metadata": {},
   "outputs": [],
   "source": [
    "import pandas as pd\n",
    "N = 3\n",
    "companiesList = []\n",
    "for indexCompany, eachCompany in enumerate(baseCompanies):\n",
    "    company = {}\n",
    "    pageElement = f'{indexCompany%N+1:#02d}'\n",
    "    company[pageElement + ' id'] = eachCompany['id']\n",
    "    company[pageElement + ' id_fake'] = f'{indexCompany+1:#02d}'\n",
    "    company[pageElement + ' titolo'] = eachCompany['titolo']['it']\n",
    "    company[pageElement + ' desEN'] = eachCompany['descrizione_110']['it']\n",
    "    companiesList.append(company)\n",
    "\n",
    "def paginate(N, companies):\n",
    "    '''\n",
    "    Raggruppamento di elementi per pagina a seconda del valore scelto (da 1 a 4)\n",
    "    Calcolo della mosca per selezione layout di pag. sinistra o destra.\n",
    "    Butta fuori una pandas.dataFrame da esportare in csv (con separatore \\t )\n",
    "    '''\n",
    "    paginatedCompanies = []\n",
    "    pageCounter = 1\n",
    "    for n in range(0, len(companies), N):\n",
    "        pageCompanies = {}\n",
    "        slice = companies[n:n+N]\n",
    "        for company in slice:\n",
    "            pageCompanies.update(company)\n",
    "            \n",
    "        # Inserisci mosca per selezione layout\n",
    "        if pageCounter%2 == 1:\n",
    "            pageCompanies['leftPage'] = '————————'\n",
    "            pageCompanies['rightPage'] = ''\n",
    "        else :\n",
    "            pageCompanies['leftPage'] = ''\n",
    "            pageCompanies['rightPage'] = '————————'\n",
    "\n",
    "        pageCounter += 1\n",
    "        paginatedCompanies.append(pageCompanies)\n",
    "\n",
    "    df = pd.DataFrame(data=paginatedCompanies)\n",
    "    return df\n",
    "\n",
    "gigi = paginate(N, companiesList)\n",
    "#.to_csv('test1.csv', sep='\\t')\n"
   ]
  },
  {
   "cell_type": "code",
   "execution_count": 40,
   "metadata": {},
   "outputs": [
    {
     "data": {
      "text/plain": [
       "'Festa Cocktail 09 aprile 18:00–22:00 | Press Preview 08 aprile 10:00–17:00'"
      ]
     },
     "execution_count": 40,
     "metadata": {},
     "output_type": "execute_result"
    }
   ],
   "source": [
    "from utils import groupSameDateAndTime, groupNonExhibitions\n",
    "MONTHS = ('gennaio','febbraio','marzo','aprile','maggio','giugno','luglio','agosto','settembre','ottobre','novembre','dicembre')\n",
    "eachCompany = baseCompanies[1]\n",
    "'''\n",
    "nonExhibition = False\n",
    "   \n",
    "exhibitions = [ev for ev in eachCompany['mini-eventi'] if ev['tipo_attivita']=='esposizione']\n",
    "exhibitionsPulite = []\n",
    "for timespan, dates in groupSameDateAndTime(exhibitions).items():\n",
    "    days = '/'.join([f'{dd.day:#02d}' for dd in dates])\n",
    "    month = MONTHS[dates[0].month-1]\n",
    "    exhibitionsPulite.append(f'{days} {month} {timespan}')\n",
    "    \n",
    "    #questo if statement serve perché nel layout a 4 esposizione e mini-eventi sono su una linea unica, nel resto dei casi sono su spazi differenti\n",
    "    #exhibitionsPulite.append(f' |')  if nonExhibitions else timespan\n",
    "exhibitionsPulite\n",
    "''' \n",
    "\n",
    "nonExhibitionLenght = len([ev for ev in eachCompany['mini-eventi'] if ev['tipo_attivita']!='esposizione'])\n",
    "nonExhibition = groupNonExhibitions(eachCompany['mini-eventi'])\n",
    "secondaryEventDatesTimes = []\n",
    "if nonExhibition:\n",
    "    nonExhibitionCounter = 0\n",
    "    for eachKind, events in nonExhibition.items():\n",
    "        kindRepr = eachKind.replace('_', ' ').title()\n",
    "        groupedEvents = groupSameDateAndTime(events)\n",
    "        for timespan, dates in groupedEvents.items():\n",
    "            days = '/'.join([f'{dd.day:#02d}' for dd in dates])\n",
    "            month = MONTHS[dates[0].month-1]\n",
    "            if nonExhibitionCounter != nonExhibitionLenght-1:\n",
    "                timespan = f'{timespan} |'\n",
    "            nonExhibitionCounter += 1\n",
    "            secondaryEventDatesTimes.append(f'{kindRepr} {days} {month} {timespan}')\n",
    "' '.join(secondaryEventDatesTimes)\n",
    "            "
   ]
  },
  {
   "cell_type": "code",
   "execution_count": 42,
   "metadata": {},
   "outputs": [
    {
     "name": "stdout",
     "output_type": "stream",
     "text": [
      "{'02 Titolo': 'A Beautiful Lightness', '02 Espositori': 'Masiero', '02 Nome Location': 'San Marco 12', '02 Indirizzo Location': 'via San Marco, 12', '02 Descrizione 110 ita': 'Il brand di illuminazione decorativa di alta gamma presenta un’installazione curata da Storagemilano in cui fanno da protagonisti gli iconici lampadari veneziani Maria Teresa, arricchiti dei più avanzati sistemi di controllo integrati. ', '02 Descrizione 110 eng': 'The high-end decorative lighting brand presents an installation curated by Storagemilano. Protagonists are the iconic Maria Teresa chandeliers, typical of the Venetian tradition, enriched by the most advanced integrated control systems.', '02 Esposizione': '08 aprile 10:00–17:00 / 09/10/11/12/13 aprile 10:00–20:00 / 14 aprile 10:00–18:00', '02 mini-eventi': 'Festa Cocktail 09 aprile 18:00–22:00 | Press Preview 08 aprile 10:00–17:00'}\n"
     ]
    }
   ],
   "source": [
    "import pandas as pd\n",
    "from utils import groupSameDateAndTime, groupNonExhibitions\n",
    "\n",
    "MONTHS = ('gennaio','febbraio','marzo','aprile','maggio','giugno','luglio','agosto','settembre','ottobre','novembre','dicembre')\n",
    "N = 3\n",
    "\n",
    "companiesList = []\n",
    "\n",
    "def buildBaseTree(companies):\n",
    "    for indexCompany, eachCompany in enumerate(companies):\n",
    "        company = {}\n",
    "        pageElement = f'{indexCompany%N+1:#02d} '\n",
    "\n",
    "        # Titolo\n",
    "        titolo = eachCompany['titolo']['it']\n",
    "        company[pageElement + 'Titolo'] = titolo\n",
    "\n",
    "        # Index sequenziale\n",
    "        '''\n",
    "        qui il problema sarà automatizzare la sequenzialità fra i vari pacchetti di comunicazione\n",
    "        '''\n",
    "\n",
    "        # Espositori (nome)\n",
    "        exhibitors = [eachExhibitor['nome'] for eachExhibitor in eachCompany['espositori']]\n",
    "        company[pageElement + 'Espositori'] = ', '.join(exhibitors)\n",
    "\n",
    "        # Location (nome)\n",
    "        locationName = eachCompany['location']['nome']\n",
    "        company[pageElement + 'Nome Location'] = locationName\n",
    "\n",
    "        # Location (indirizzo)\n",
    "        locationAddress = eachCompany['location']['indirizzo']\n",
    "        company[pageElement + 'Indirizzo Location'] = locationAddress\n",
    "\n",
    "        # Descrizione 110 ita\n",
    "        desIt = eachCompany['descrizione_110']['it']\n",
    "        company[pageElement + 'Descrizione 110 ita'] = desIt\n",
    "\n",
    "        # Descrizione 110 eng\n",
    "        desEn = eachCompany['descrizione_110']['en']\n",
    "        company[pageElement + 'Descrizione 110 eng'] = desEn\n",
    "\n",
    "        # Esposizione (date, orari inizio/fine)\n",
    "        exhibitions = [ev for ev in eachCompany['mini-eventi'] if ev['tipo_attivita']=='esposizione']\n",
    "        mainEventDatesTimes = []\n",
    "        for timespan, dates in groupSameDateAndTime(exhibitions).items():\n",
    "            days = '/'.join([f'{dd.day:#02d}' for dd in dates])\n",
    "            month = MONTHS[dates[0].month-1]\n",
    "            mainEventDatesTimes.append(f'{days} {month} {timespan}')\n",
    "\n",
    "        company[pageElement + 'Esposizione'] = ' / '.join(mainEventDatesTimes)\n",
    "\n",
    "        # Mini eventi (attività, data, ora inizio/fine)\n",
    "        nonExhibitionLenght = len([ev for ev in eachCompany['mini-eventi'] if ev['tipo_attivita']!='esposizione'])\n",
    "        nonExhibition = groupNonExhibitions(eachCompany['mini-eventi'])\n",
    "        secondaryEventDatesTimes = []\n",
    "        if nonExhibition:\n",
    "            nonExhibitionCounter = 0\n",
    "            for eachKind, events in nonExhibition.items():\n",
    "                kindRepr = eachKind.replace('_', ' ').title()\n",
    "                groupedEvents = groupSameDateAndTime(events)\n",
    "                for timespan, dates in groupedEvents.items():\n",
    "                    days = '/'.join([f'{dd.day:#02d}' for dd in dates])\n",
    "                    month = MONTHS[dates[0].month-1]\n",
    "                    if nonExhibitionCounter != nonExhibitionLenght-1:\n",
    "                        timespan = f'{timespan} |'\n",
    "                    nonExhibitionCounter += 1\n",
    "                    secondaryEventDatesTimes.append(f'{kindRepr} {days} {month} {timespan}')\n",
    "        company[pageElement + 'mini-eventi'] = ' '.join(secondaryEventDatesTimes)\n",
    "\n",
    "        # Append company data to companies list\n",
    "        companiesList.append(company)\n",
    "    print(companiesList[1])\n"
   ]
  },
  {
   "cell_type": "code",
   "execution_count": null,
   "metadata": {},
   "outputs": [],
   "source": []
  }
 ],
 "metadata": {
  "interpreter": {
   "hash": "ee09816b443dd333cb427928a9d19b4dda274f5a86638c4c6bbbf1e85b380745"
  },
  "kernelspec": {
   "display_name": "Python 3.7.7 ('GeneralEnvironment')",
   "language": "python",
   "name": "python3"
  },
  "language_info": {
   "codemirror_mode": {
    "name": "ipython",
    "version": 3
   },
   "file_extension": ".py",
   "mimetype": "text/x-python",
   "name": "python",
   "nbconvert_exporter": "python",
   "pygments_lexer": "ipython3",
   "version": "3.7.7"
  },
  "orig_nbformat": 4
 },
 "nbformat": 4,
 "nbformat_minor": 2
}
